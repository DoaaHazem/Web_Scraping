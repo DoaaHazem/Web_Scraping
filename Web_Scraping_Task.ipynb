{
 "cells": [
  {
   "cell_type": "markdown",
   "id": "881089b2-e0ab-4b36-9531-25b6243743cc",
   "metadata": {},
   "source": [
    "****Import Important Libraries****"
   ]
  },
  {
   "cell_type": "code",
   "execution_count": 2,
   "id": "d821a2bc-282a-4bac-a307-abcdf2005770",
   "metadata": {},
   "outputs": [],
   "source": [
    "import requests\n",
    "from bs4 import BeautifulSoup\n",
    "import csv\n",
    "import json"
   ]
  },
  {
   "cell_type": "code",
   "execution_count": 4,
   "id": "d5837e7e-921a-4017-9c9d-44e2743a5bd0",
   "metadata": {},
   "outputs": [
    {
     "data": {
      "text/plain": [
       "'<!DOCTYPE html>\\n\\n<html>\\n\\n    <head>\\n        <title>Web Scraping Task with Form</title>\\n\\n         <style>\\n        body {\\n            font-family: Arial, sans-serif;\\n            margin: 20px;\\n            background-color: #f5f5f5;\\n        }\\n\\n        h1 {\\n            color: darkred;\\n            text-align: center;\\n        }\\n\\n        h2 {\\n            color: darkblue;\\n            font-style: italic;\\n        }\\n\\n        p {\\n            color: #555;\\n            font-size: 14px;\\n        }\\n\\n        img {\\n            width: 250px;\\n            height: auto;\\n            border-radius: 10px;\\n        }\\n\\n        table {\\n            width: 100%;\\n            border-collapse: collapse;\\n            margin: 20px 0;\\n        }\\n\\n        table, th, td {\\n            border: 1px solid #ccc;\\n        }\\n\\n        th {\\n            background-color: #333;\\n            color: white;\\n            padding: 10px;\\n        }\\n\\n        td {\\n            text-align: center;\\n            padding: 10px;\\n        }\\n\\n        .btn {\\n            background-color: darkgreen;\\n            color: white;\\n            border: none;\\n            padding: 10px 20px;\\n            cursor: pointer;\\n            text-transform: uppercase;\\n            font-weight: bold;\\n        }\\n\\n        .btn:hover {\\n            background-color: green;\\n        }\\n\\n        ul {\\n            list-style-type: square;\\n        }\\n\\n        iframe {\\n            display: block;\\n            margin: 20px auto;\\n            border: none;\\n        }\\n\\n        .footer {\\n            background-color: #333;\\n            color: white;\\n            text-align: center;\\n            padding: 10px 0;\\n            margin-top: 30px;\\n        }\\n\\n        .highlight {\\n            background-color: yellow;\\n            font-weight: bold;\\n        }\\n\\n        form {\\n            margin: 20px 0;\\n            background-color: #fff;\\n            padding: 20px;\\n            border: 1px solid #ccc;\\n            border-radius: 5px;\\n        }\\n\\n        form input, form select, form button {\\n            display: block;\\n            margin: 10px 0;\\n            padding: 10px;\\n            width: 100%;\\n            max-width: 400px;\\n            border: 1px solid #ccc;\\n            border-radius: 5px;\\n        }\\n\\n        .products {\\n            display: flex;\\n            flex-wrap: wrap;\\n            justify-content: center;\\n            gap: 20px;\\n            margin-top: 30px;\\n        }\\n\\n        .product-card {\\n            width: 250px;\\n            border: 1px solid #ddd;\\n            border-radius: 8px;\\n            background-color: #fff;\\n            box-shadow: 0 4px 6px rgba(0, 0, 0, 0.1);\\n            text-align: center;\\n            overflow: hidden;\\n            transition: transform 0.3s ease, box-shadow 0.3s ease;\\n        }\\n\\n        .product-card:hover {\\n            transform: translateY(-5px);\\n            box-shadow: 0 8px 12px rgba(0, 0, 0, 0.2);\\n        }\\n\\n        .product-card img {\\n            width: 100%;\\n            height: 150px;\\n            object-fit: cover;\\n        }\\n\\n        .product-card .name {\\n            font-size: 18px;\\n            font-weight: bold;\\n            margin: 15px 0 5px;\\n            color: #333;\\n        }\\n\\n        .product-card .price {\\n            font-size: 16px;\\n            color: #28a745;\\n            margin: 5px 0;\\n        }\\n\\n        .product-card .colors {\\n            font-size: 14px;\\n            color: #666;\\n            margin-bottom: 15px;\\n        }\\n\\n        .product-card button {\\n            background-color: #007bff;\\n            color: white;\\n            border: none;\\n            padding: 10px 20px;\\n            margin: 10px 0;\\n            cursor: pointer;\\n            border-radius: 5px;\\n            font-size: 14px;\\n            transition: background-color 0.3s ease;\\n        }\\n\\n        .product-card button:hover {\\n            background-color: #0056b3;\\n        }\\n    </style>\\n    </head>\\n\\n    <body>\\n        <h1>Web Scraping Practice</h1>\\n        <p>Welcome to the web scraping task! Use your skills to extract the required data from this page.</p>\\n\\n        <h2>Available Products</h2>\\n        <ul>\\n            <li class=\"highlight\">Laptop</li>\\n            <li>Smartphone</li>\\n            <li>Tablet</li>\\n            <li>Smartwatch</li>\\n        </ul>\\n\\n        <h2>Product Table</h2>\\n        <table>\\n            <tr>\\n                <th>Product</th>\\n                <th>Price</th>\\n                <th>In Stock</th>\\n            </tr>\\n            <tr>\\n                <td>Laptop</td>\\n                <td>$1000</td>\\n                <td>Yes</td>\\n            </tr>\\n            <tr>\\n                <td>Smartphone</td>\\n                <td>$800</td>\\n                <td>No</td>\\n            </tr>\\n            <tr>\\n                <td>Tablet</td>\\n                <td>$500</td>\\n                <td>Yes</td>\\n            </tr>\\n        </table>\\n\\n        <h2>Watch This Video</h2>\\n        <iframe width=\"560\" height=\"315\" src=\"https://www.youtube.com/watch?v=ujf9RNuBdCU\"></iframe>\\n        \\n        \\n\\n        \\n        <h2>Contact Us</h2>\\n        <form>\\n            <label for=\"username\">Username:</label>\\n            <input type=\"text\" id=\"username\" name=\"username\" placeholder=\"Enter your username\">\\n\\n            <label for=\"password\">Password:</label>\\n            <input type=\"password\" id=\"password\" name=\"password\" placeholder=\"Enter your password\">\\n\\n            <label for=\"options\">Choose an option:</label>\\n            <select id=\"options\" name=\"options\">\\n                <option value=\"option1\">Option 1</option>\\n                <option value=\"option2\">Option 2</option>\\n                <option value=\"option3\">Option 3</option>\\n            </select>\\n\\n            <label>\\n                <input type=\"checkbox\" name=\"terms\"> I agree to the terms and conditions\\n            </label>\\n\\n            <input type=\"submit\" value=\"Submit\">\\n        </form>\\n\\n    <h2>Product Information</h2>\\n    <div class=\"book-products\" style=\"display: flex; justify-content: space-around; margin-top: 20px;\">\\n        <div style=\"text-align: center; width: 200px; border: 1px solid #ddd; padding: 10px; border-radius: 5px;\">\\n            <img src=\"http://books.toscrape.com/media/cache/26/0c/260c6ae16bce31c8f8c95daddd9f4a1c.jpg\" alt=\"Sharp Objects\" style=\"width: 100%; height: auto; border-radius: 5px;\">\\n            <p><strong>Sharp Objects</strong></p>\\n            <p style=\"color: green;\">£47.82</p>\\n            <p style=\"color: green;\">✔ In stock</p>\\n            <button style=\"background-color: blue; color: white; border: none; padding: 10px 15px; border-radius: 5px; cursor: pointer;\">Add to basket</button>\\n        </div>\\n\\n        <div style=\"text-align: center; width: 200px; border: 1px solid #ddd; padding: 10px; border-radius: 5px;\">\\n            <img src=\"http://books.toscrape.com/media/cache/92/27/92274a95b7c251fea59a2b8a78275ab4.jpg\" alt=\"In a Dark, Dark Wood\" style=\"width: 100%; height: auto; border-radius: 5px;\">\\n            <p><strong>In a Dark, Dark Wood</strong></p>\\n            <p style=\"color: green;\">£19.63</p>\\n            <p style=\"color: green;\">✔ In stock</p>\\n            <button style=\"background-color: blue; color: white; border: none; padding: 10px 15px; border-radius: 5px; cursor: pointer;\">Add to basket</button>\\n        </div>\\n\\n        <div style=\"text-align: center; width: 200px; border: 1px solid #ddd; padding: 10px; border-radius: 5px;\">\\n            <img src=\"http://books.toscrape.com/media/cache/c0/59/c05972805aa7201171b8fc71a5b00292.jpg\" alt=\"The Past Never Ends\" style=\"width: 100%; height: auto; border-radius: 5px;\">\\n            <p><strong>The Past Never Ends</strong></p>\\n            <p style=\"color: green;\">£56.50</p>\\n            <p style=\"color: green;\">✔ In stock</p>\\n            <button style=\"background-color: blue; color: white; border: none; padding: 10px 15px; border-radius: 5px; cursor: pointer;\">Add to basket</button>\\n        </div>\\n\\n        <div style=\"text-align: center; width: 200px; border: 1px solid #ddd; padding: 10px; border-radius: 5px;\">\\n            <img src=\"http://books.toscrape.com/media/cache/97/27/97275841c81e66d53bf9313cba06f23e.jpg\" alt=\"A Murder in Time\" style=\"width: 100%; height: auto; border-radius: 5px;\">\\n            <p><strong>A Murder in Time</strong></p>\\n            <p style=\"color: green;\">£16.64</p>\\n            <p style=\"color: green;\"> Out stock</p>\\n            <button style=\"background-color: blue; color: white; border: none; padding: 10px 15px; border-radius: 5px; cursor: pointer;\">Add to basket</button>\\n        </div>\\n    </div>\\n\\n    \\n\\n    <h2>Featured Products</h2>\\n    <div class=\"products\">\\n        <div class=\"product-card\" data-id=\"101\">\\n            <img src=\"https://via.placeholder.com/250x150?text=Product+1\" alt=\"Wireless Headphones\">\\n            <p class=\"name\">Wireless Headphones</p>\\n            <p class=\"price\" style=\"display: none;\">$49.99</p>\\n            <p class=\"colors\">Available colors: Black, White, Blue</p>\\n            <button>Add to Basket</button>\\n        </div>\\n        <div class=\"product-card\" data-id=\"102\">\\n            <img src=\"https://via.placeholder.com/250x150?text=Product+2\" alt=\"Smart Speaker\">\\n            <p class=\"name\">Smart Speaker</p>\\n            <p class=\"price\" style=\"display: none;\">$89.99</p>\\n            <p class=\"colors\">Available colors: Grey, Black</p>\\n            <button>Add to Basket</button>\\n        </div>\\n        <div class=\"product-card\" data-id=\"103\">\\n            <img src=\"https://via.placeholder.com/250x150?text=Product+3\" alt=\"Smart Watch\">\\n            <p class=\"name\">Smart Watch</p>\\n            <p class=\"price\" style=\"display: none;\">$149.99</p>\\n            <p class=\"colors\">Available colors: Black, Silver, Gold</p>\\n            <button>Add to Basket</button>\\n        </div>\\n    </div>\\n\\n    <div class=\"footer\">\\n            <p>&copy; 2024 Web Scraping Practice. All Rights Reserved.</p>\\n        </div>\\n    </body>\\n</html>\\n'"
      ]
     },
     "execution_count": 4,
     "metadata": {},
     "output_type": "execute_result"
    }
   ],
   "source": [
    "url = \"https://baraasalout.github.io/test.html\"\n",
    "response = requests.get(url)\n",
    "response.text"
   ]
  },
  {
   "cell_type": "code",
   "execution_count": 6,
   "id": "dd430db0-63ac-42b9-bfdc-8779b46f9b70",
   "metadata": {},
   "outputs": [],
   "source": [
    "soup = BeautifulSoup(response.text, 'html.parser')"
   ]
  },
  {
   "cell_type": "markdown",
   "id": "c6fdda40-6de9-4935-a0f1-5bb9136413cd",
   "metadata": {},
   "source": [
    "****Task_1 : Extract Text Data****"
   ]
  },
  {
   "cell_type": "markdown",
   "id": "f7bc5654-e919-43eb-a011-946181d8b6cd",
   "metadata": {},
   "source": [
    "1- Extract all headings (h1, h2)"
   ]
  },
  {
   "cell_type": "code",
   "execution_count": 10,
   "id": "20bba207-6b92-4095-8060-ab1a0c42404c",
   "metadata": {},
   "outputs": [],
   "source": [
    "Heading = []   # Empty List to add all Heading (h1 , h2)"
   ]
  },
  {
   "cell_type": "code",
   "execution_count": 12,
   "id": "71a3b8b1-d795-4e59-8859-517335261026",
   "metadata": {},
   "outputs": [
    {
     "data": {
      "text/plain": [
       "[<h1>Web Scraping Practice</h1>]"
      ]
     },
     "execution_count": 12,
     "metadata": {},
     "output_type": "execute_result"
    }
   ],
   "source": [
    "all_head1 = soup.find_all('h1')\n",
    "all_head1"
   ]
  },
  {
   "cell_type": "code",
   "execution_count": 14,
   "id": "902dab43-b320-4081-94ad-7a86e501cd3f",
   "metadata": {},
   "outputs": [
    {
     "name": "stdout",
     "output_type": "stream",
     "text": [
      "Web Scraping Practice\n"
     ]
    }
   ],
   "source": [
    "# Extract all h1\n",
    "for head in all_head1:\n",
    "    Heading.append(head.get_text())\n",
    "    print(head.get_text())"
   ]
  },
  {
   "cell_type": "code",
   "execution_count": 16,
   "id": "3ae2dac3-32ae-4c07-b44b-e8d1a2daa4c9",
   "metadata": {},
   "outputs": [
    {
     "data": {
      "text/plain": [
       "[<h2>Available Products</h2>,\n",
       " <h2>Product Table</h2>,\n",
       " <h2>Watch This Video</h2>,\n",
       " <h2>Contact Us</h2>,\n",
       " <h2>Product Information</h2>,\n",
       " <h2>Featured Products</h2>]"
      ]
     },
     "execution_count": 16,
     "metadata": {},
     "output_type": "execute_result"
    }
   ],
   "source": [
    "all_head2 = soup.find_all('h2')\n",
    "all_head2"
   ]
  },
  {
   "cell_type": "code",
   "execution_count": 18,
   "id": "d6ec61a4-65a8-447e-a639-e8a0e10d4c66",
   "metadata": {},
   "outputs": [
    {
     "name": "stdout",
     "output_type": "stream",
     "text": [
      "Available Products\n",
      "Product Table\n",
      "Watch This Video\n",
      "Contact Us\n",
      "Product Information\n",
      "Featured Products\n"
     ]
    }
   ],
   "source": [
    "# Extract all h2\n",
    "for head in all_head2:\n",
    "    Heading.append(head.get_text())\n",
    "    print(head.get_text())"
   ]
  },
  {
   "cell_type": "code",
   "execution_count": 20,
   "id": "f2332eac-7d7f-40c5-9c68-883dceb936ba",
   "metadata": {},
   "outputs": [
    {
     "data": {
      "text/plain": [
       "['Web Scraping Practice',\n",
       " 'Available Products',\n",
       " 'Product Table',\n",
       " 'Watch This Video',\n",
       " 'Contact Us',\n",
       " 'Product Information',\n",
       " 'Featured Products']"
      ]
     },
     "execution_count": 20,
     "metadata": {},
     "output_type": "execute_result"
    }
   ],
   "source": [
    "Heading  # All data in h1 & h2"
   ]
  },
  {
   "cell_type": "markdown",
   "id": "f6e1bf63-976a-476b-8b41-d9045df0061c",
   "metadata": {},
   "source": [
    "2- Extract all text content inside p and li tags"
   ]
  },
  {
   "cell_type": "code",
   "execution_count": 23,
   "id": "a693b72a-ebe2-4a2b-8b0d-18ffdb9a31fd",
   "metadata": {},
   "outputs": [],
   "source": [
    "Paragraph = []  # Empty List to add all Paragraph (p)\n",
    "List = []       # Empty List to add all List (li)"
   ]
  },
  {
   "cell_type": "code",
   "execution_count": 25,
   "id": "8f7a995c-2868-48f2-907e-2e70d4becf79",
   "metadata": {},
   "outputs": [
    {
     "data": {
      "text/plain": [
       "[<p>Welcome to the web scraping task! Use your skills to extract the required data from this page.</p>,\n",
       " <p><strong>Sharp Objects</strong></p>,\n",
       " <p style=\"color: green;\">£47.82</p>,\n",
       " <p style=\"color: green;\">✔ In stock</p>,\n",
       " <p><strong>In a Dark, Dark Wood</strong></p>,\n",
       " <p style=\"color: green;\">£19.63</p>,\n",
       " <p style=\"color: green;\">✔ In stock</p>,\n",
       " <p><strong>The Past Never Ends</strong></p>,\n",
       " <p style=\"color: green;\">£56.50</p>,\n",
       " <p style=\"color: green;\">✔ In stock</p>,\n",
       " <p><strong>A Murder in Time</strong></p>,\n",
       " <p style=\"color: green;\">£16.64</p>,\n",
       " <p style=\"color: green;\"> Out stock</p>,\n",
       " <p class=\"name\">Wireless Headphones</p>,\n",
       " <p class=\"price\" style=\"display: none;\">$49.99</p>,\n",
       " <p class=\"colors\">Available colors: Black, White, Blue</p>,\n",
       " <p class=\"name\">Smart Speaker</p>,\n",
       " <p class=\"price\" style=\"display: none;\">$89.99</p>,\n",
       " <p class=\"colors\">Available colors: Grey, Black</p>,\n",
       " <p class=\"name\">Smart Watch</p>,\n",
       " <p class=\"price\" style=\"display: none;\">$149.99</p>,\n",
       " <p class=\"colors\">Available colors: Black, Silver, Gold</p>,\n",
       " <p>© 2024 Web Scraping Practice. All Rights Reserved.</p>]"
      ]
     },
     "execution_count": 25,
     "metadata": {},
     "output_type": "execute_result"
    }
   ],
   "source": [
    "all_p = soup.find_all('p')\n",
    "all_p"
   ]
  },
  {
   "cell_type": "code",
   "execution_count": 27,
   "id": "6b407ab6-9feb-402d-8020-ccb3001cf0a4",
   "metadata": {},
   "outputs": [
    {
     "name": "stdout",
     "output_type": "stream",
     "text": [
      "Welcome to the web scraping task! Use your skills to extract the required data from this page.\n",
      "Sharp Objects\n",
      "£47.82\n",
      "✔ In stock\n",
      "In a Dark, Dark Wood\n",
      "£19.63\n",
      "✔ In stock\n",
      "The Past Never Ends\n",
      "£56.50\n",
      "✔ In stock\n",
      "A Murder in Time\n",
      "£16.64\n",
      " Out stock\n",
      "Wireless Headphones\n",
      "$49.99\n",
      "Available colors: Black, White, Blue\n",
      "Smart Speaker\n",
      "$89.99\n",
      "Available colors: Grey, Black\n",
      "Smart Watch\n",
      "$149.99\n",
      "Available colors: Black, Silver, Gold\n",
      "© 2024 Web Scraping Practice. All Rights Reserved.\n"
     ]
    }
   ],
   "source": [
    "# Extract all paragraph\n",
    "for parag in all_p:\n",
    "    Paragraph.append(parag.get_text())\n",
    "    print(parag.get_text())"
   ]
  },
  {
   "cell_type": "code",
   "execution_count": 29,
   "id": "c0a6865a-38cd-43cf-b849-b3dc944a8827",
   "metadata": {},
   "outputs": [
    {
     "data": {
      "text/plain": [
       "[<li class=\"highlight\">Laptop</li>,\n",
       " <li>Smartphone</li>,\n",
       " <li>Tablet</li>,\n",
       " <li>Smartwatch</li>]"
      ]
     },
     "execution_count": 29,
     "metadata": {},
     "output_type": "execute_result"
    }
   ],
   "source": [
    "all_li = soup.find_all('li')\n",
    "all_li"
   ]
  },
  {
   "cell_type": "code",
   "execution_count": 31,
   "id": "bb50e043-aef6-436b-ba02-f90d8e6533ce",
   "metadata": {},
   "outputs": [
    {
     "name": "stdout",
     "output_type": "stream",
     "text": [
      "Laptop\n",
      "Smartphone\n",
      "Tablet\n",
      "Smartwatch\n"
     ]
    }
   ],
   "source": [
    "# Extract all list\n",
    "for li in all_li:\n",
    "    List.append(li.get_text())\n",
    "    print(li.get_text())"
   ]
  },
  {
   "cell_type": "markdown",
   "id": "d1e8cfa4-c1de-4042-a585-4d9b4041b1c0",
   "metadata": {},
   "source": [
    "3- Save this data into a Extract_Text_Data.CSV file"
   ]
  },
  {
   "cell_type": "code",
   "execution_count": 34,
   "id": "99c2f234-bde5-47b5-92c4-942c1395976a",
   "metadata": {},
   "outputs": [],
   "source": [
    "header = ['Type', 'Content']\n",
    "data = []\n",
    "\n",
    "for h in Heading:\n",
    "    data.append([\"Heading\", h])\n",
    "\n",
    "for p in Paragraph:\n",
    "    data.append([\"Paragraph\", p])\n",
    "\n",
    "for l in List:\n",
    "    data.append([\"List\", l])\n",
    "\n",
    "\n",
    "with open('Extract_Text_Data.CSV', 'w', encoding = 'UTF8') as file :\n",
    "    writer = csv.writer(file)\n",
    "    writer.writerow(header)\n",
    "    writer.writerows(data)\n"
   ]
  },
  {
   "cell_type": "markdown",
   "id": "4a92216e-09bc-4090-8ed6-384f4f860ff9",
   "metadata": {},
   "source": [
    "****Task_2 : Extract Table Data****"
   ]
  },
  {
   "cell_type": "markdown",
   "id": "9e5da01d-0ec8-4633-a7fb-ce917d1b7464",
   "metadata": {},
   "source": [
    "1- Extract data from the table"
   ]
  },
  {
   "cell_type": "code",
   "execution_count": 38,
   "id": "9a069083-582d-4a53-918b-394ecc7af530",
   "metadata": {},
   "outputs": [
    {
     "data": {
      "text/plain": [
       "[<table>\n",
       " <tr>\n",
       " <th>Product</th>\n",
       " <th>Price</th>\n",
       " <th>In Stock</th>\n",
       " </tr>\n",
       " <tr>\n",
       " <td>Laptop</td>\n",
       " <td>$1000</td>\n",
       " <td>Yes</td>\n",
       " </tr>\n",
       " <tr>\n",
       " <td>Smartphone</td>\n",
       " <td>$800</td>\n",
       " <td>No</td>\n",
       " </tr>\n",
       " <tr>\n",
       " <td>Tablet</td>\n",
       " <td>$500</td>\n",
       " <td>Yes</td>\n",
       " </tr>\n",
       " </table>]"
      ]
     },
     "execution_count": 38,
     "metadata": {},
     "output_type": "execute_result"
    }
   ],
   "source": [
    "tables = soup.find_all('table')\n",
    "tables"
   ]
  },
  {
   "cell_type": "code",
   "execution_count": 40,
   "id": "eea2d270-1da0-4e08-907c-8906a4f93164",
   "metadata": {},
   "outputs": [],
   "source": [
    "Header = []    # Empty List to add all head table\n",
    "Data = []      # Empty List to add all data in table"
   ]
  },
  {
   "cell_type": "code",
   "execution_count": 42,
   "id": "bef48c60-d57c-4960-b8bd-e5fb31c62944",
   "metadata": {},
   "outputs": [
    {
     "name": "stdout",
     "output_type": "stream",
     "text": [
      "Product\n",
      "Price\n",
      "In Stock\n"
     ]
    }
   ],
   "source": [
    "# Extract all header in table\n",
    "for table in tables:\n",
    "    for i in range(len(table.find('tr').find_all('th'))):\n",
    "       Header.append(table.find('tr').find_all('th')[i].get_text())\n",
    "       print(table.find('tr').find_all('th')[i].get_text())"
   ]
  },
  {
   "cell_type": "code",
   "execution_count": 44,
   "id": "700710d9-c02e-4dc3-b60d-859f647c48cb",
   "metadata": {},
   "outputs": [],
   "source": [
    "# Extract all data in table\n",
    "for table in tables:\n",
    "    for row in table.find_all('tr'):\n",
    "        cells = [cell.get_text(strip=True) for cell in row.find_all('td')] # List Comprehension to extract all cells from row to add it to list\n",
    "        if cells:  # if the row is empty -> add it in list (Data)\n",
    "            Data.append(cells)"
   ]
  },
  {
   "cell_type": "markdown",
   "id": "549c01be-7e46-4d88-8dbe-ce6c72dd7981",
   "metadata": {},
   "source": [
    "3- Save this data into a Extract_Table_Data.CSV file"
   ]
  },
  {
   "cell_type": "code",
   "execution_count": 47,
   "id": "458927d2-b36f-49ce-8ed6-1db8a6b8f3c4",
   "metadata": {},
   "outputs": [],
   "source": [
    "with open('Extract_Table_Data.CSV', 'w', encoding = 'UTF8', newline='') as file:\n",
    "    writer = csv.writer(file)\n",
    "    writer.writerow(Header)\n",
    "    writer.writerows(Data)"
   ]
  },
  {
   "cell_type": "markdown",
   "id": "2aeaf565-c99e-47a1-8c6a-e44db2d47b93",
   "metadata": {},
   "source": [
    "****Task_3 :  Extract Product Information**** "
   ]
  },
  {
   "cell_type": "markdown",
   "id": "f5b2c6bf-0662-47e3-a15f-56b6447d9daa",
   "metadata": {},
   "source": [
    "1- Extract data from the book cards"
   ]
  },
  {
   "cell_type": "code",
   "execution_count": 51,
   "id": "4ec0baa2-66a4-40ef-a883-83619e201f37",
   "metadata": {},
   "outputs": [],
   "source": [
    "Book_Title = []           # Empty List to add all Book Title of product\n",
    "Price = []                # Empty List to add all price of product\n",
    "Stock_Availability = []   # Empty List to add all Stock Availability of product\n",
    "Button_text = []          # Empty List to add all Button text of product"
   ]
  },
  {
   "cell_type": "code",
   "execution_count": 53,
   "id": "54cbef08-2d6f-4c4a-9e01-f2803806016d",
   "metadata": {},
   "outputs": [
    {
     "data": {
      "text/plain": [
       "[<strong>Sharp Objects</strong>,\n",
       " <strong>In a Dark, Dark Wood</strong>,\n",
       " <strong>The Past Never Ends</strong>,\n",
       " <strong>A Murder in Time</strong>]"
      ]
     },
     "execution_count": 53,
     "metadata": {},
     "output_type": "execute_result"
    }
   ],
   "source": [
    "book_title = soup.find('div' , {'class':'book-products'}).find_all('strong')\n",
    "book_title"
   ]
  },
  {
   "cell_type": "code",
   "execution_count": 55,
   "id": "92253ee7-a196-42c7-942d-a4f45382a72f",
   "metadata": {},
   "outputs": [
    {
     "name": "stdout",
     "output_type": "stream",
     "text": [
      "Sharp Objects\n",
      "In a Dark, Dark Wood\n",
      "The Past Never Ends\n",
      "A Murder in Time\n"
     ]
    }
   ],
   "source": [
    "# Extract Book Title\n",
    "for title in book_title:\n",
    "    Book_Title.append(title.get_text())\n",
    "    print(title.get_text())"
   ]
  },
  {
   "cell_type": "code",
   "execution_count": 57,
   "id": "b4b7f887-9887-4915-b1c4-0626a9a77a12",
   "metadata": {},
   "outputs": [
    {
     "data": {
      "text/plain": [
       "[<p style=\"color: green;\">£47.82</p>,\n",
       " <p style=\"color: green;\">✔ In stock</p>,\n",
       " <p style=\"color: green;\">£19.63</p>,\n",
       " <p style=\"color: green;\">✔ In stock</p>,\n",
       " <p style=\"color: green;\">£56.50</p>,\n",
       " <p style=\"color: green;\">✔ In stock</p>,\n",
       " <p style=\"color: green;\">£16.64</p>,\n",
       " <p style=\"color: green;\"> Out stock</p>]"
      ]
     },
     "execution_count": 57,
     "metadata": {},
     "output_type": "execute_result"
    }
   ],
   "source": [
    "price_and_stock = soup.find('div' , {'class':'book-products'}).find_all('p', style=\"color: green;\")\n",
    "price_and_stock"
   ]
  },
  {
   "cell_type": "code",
   "execution_count": 59,
   "id": "f71a2a79-b593-4c85-9dcd-fbcf7bac0222",
   "metadata": {},
   "outputs": [
    {
     "name": "stdout",
     "output_type": "stream",
     "text": [
      "['£47.82', '£19.63', '£56.50', '£16.64'] ['✔ In stock', '✔ In stock', '✔ In stock', ' Out stock']\n"
     ]
    }
   ],
   "source": [
    "# Extract Price & Stock Availability\n",
    "for p in price_and_stock:\n",
    "    if '£' in p.get_text():\n",
    "        Price.append(p.get_text())\n",
    "    else: \n",
    "        Stock_Availability.append(p.get_text())\n",
    "\n",
    "print(Price,Stock_Availability)"
   ]
  },
  {
   "cell_type": "code",
   "execution_count": 61,
   "id": "ccf08e23-4c00-4bdb-8788-f9ec723729f5",
   "metadata": {},
   "outputs": [
    {
     "data": {
      "text/plain": [
       "[<button style=\"background-color: blue; color: white; border: none; padding: 10px 15px; border-radius: 5px; cursor: pointer;\">Add to basket</button>,\n",
       " <button style=\"background-color: blue; color: white; border: none; padding: 10px 15px; border-radius: 5px; cursor: pointer;\">Add to basket</button>,\n",
       " <button style=\"background-color: blue; color: white; border: none; padding: 10px 15px; border-radius: 5px; cursor: pointer;\">Add to basket</button>,\n",
       " <button style=\"background-color: blue; color: white; border: none; padding: 10px 15px; border-radius: 5px; cursor: pointer;\">Add to basket</button>]"
      ]
     },
     "execution_count": 61,
     "metadata": {},
     "output_type": "execute_result"
    }
   ],
   "source": [
    "text = soup.find('div' , {'class':'book-products'}).find_all('button')\n",
    "text"
   ]
  },
  {
   "cell_type": "code",
   "execution_count": 63,
   "id": "7be6dca5-5ac0-4e1e-b62c-37bfffedf8b4",
   "metadata": {},
   "outputs": [
    {
     "name": "stdout",
     "output_type": "stream",
     "text": [
      "Add to basket\n",
      "Add to basket\n",
      "Add to basket\n",
      "Add to basket\n"
     ]
    }
   ],
   "source": [
    "# Extract Button text\n",
    "for t in text:\n",
    "    Button_text.append(t.get_text())\n",
    "    print(t.get_text())"
   ]
  },
  {
   "cell_type": "markdown",
   "id": "d3af7f80-643b-4711-adb8-ecbb997c4dae",
   "metadata": {},
   "source": [
    "2- Save the data into a  Product_Information.JSON file"
   ]
  },
  {
   "cell_type": "code",
   "execution_count": 66,
   "id": "6a6e81df-870b-4d31-b55b-afccec35ca8e",
   "metadata": {},
   "outputs": [],
   "source": [
    "d = {'Book Title':Book_Title, 'Price': Price, 'Stock Availability': Stock_Availability, 'Button text': Button_text}\n",
    "\n",
    "with open('Product_Information.JSON', 'w', encoding = 'UTF8') as file:\n",
    "    json.dump(d, file, indent=4)"
   ]
  },
  {
   "cell_type": "markdown",
   "id": "b7925954-2c99-44e6-87ba-5ced154c527a",
   "metadata": {},
   "source": [
    "****Task_4 : Extract Form Details****"
   ]
  },
  {
   "cell_type": "markdown",
   "id": "437810e4-0071-4714-b46d-a394e260e1c4",
   "metadata": {},
   "source": [
    "1- Extract all input fields from the form"
   ]
  },
  {
   "cell_type": "code",
   "execution_count": 70,
   "id": "05f140cc-4ce1-4df3-86c0-6249fe59f4d3",
   "metadata": {},
   "outputs": [],
   "source": [
    "Field_name = []       # Empty List to add all Field name in Form\n",
    "Input_type = []       # Empty List to add all Input type in Form\n",
    "Default_values = []   # Empty List to add all Default values in Form"
   ]
  },
  {
   "cell_type": "code",
   "execution_count": 72,
   "id": "24cef9aa-e3b3-43f9-bfcc-550b17bac4ad",
   "metadata": {},
   "outputs": [
    {
     "data": {
      "text/plain": [
       "[<label for=\"username\">Username:</label>,\n",
       " <label for=\"password\">Password:</label>,\n",
       " <label for=\"options\">Choose an option:</label>,\n",
       " <label>\n",
       " <input name=\"terms\" type=\"checkbox\"/> I agree to the terms and conditions\n",
       "             </label>]"
      ]
     },
     "execution_count": 72,
     "metadata": {},
     "output_type": "execute_result"
    }
   ],
   "source": [
    "labels = soup.find('form').find_all('label')\n",
    "labels"
   ]
  },
  {
   "cell_type": "code",
   "execution_count": 74,
   "id": "f2bbcb26-5431-418c-9fed-f816336573f1",
   "metadata": {},
   "outputs": [
    {
     "name": "stdout",
     "output_type": "stream",
     "text": [
      "Username\n",
      "Password\n",
      "Choose an option\n",
      "I agree to the terms and conditions\n"
     ]
    }
   ],
   "source": [
    "# Extract Field name from all label in Form \n",
    "for label in labels:\n",
    "    Field_name.append(label.get_text().strip().removesuffix(':'))\n",
    "    print(label.get_text().strip().removesuffix(':'))"
   ]
  },
  {
   "cell_type": "code",
   "execution_count": 76,
   "id": "17c694e7-019f-42eb-acb1-61a15fa991f8",
   "metadata": {},
   "outputs": [
    {
     "data": {
      "text/plain": [
       "[<input id=\"username\" name=\"username\" placeholder=\"Enter your username\" type=\"text\"/>,\n",
       " <input id=\"password\" name=\"password\" placeholder=\"Enter your password\" type=\"password\"/>,\n",
       " <input name=\"terms\" type=\"checkbox\"/>,\n",
       " <input type=\"submit\" value=\"Submit\"/>]"
      ]
     },
     "execution_count": 76,
     "metadata": {},
     "output_type": "execute_result"
    }
   ],
   "source": [
    "types = soup.find('form').find_all('input')\n",
    "types"
   ]
  },
  {
   "cell_type": "code",
   "execution_count": 78,
   "id": "312415f2-b2ce-48bb-91b3-8a3eef3ff08b",
   "metadata": {},
   "outputs": [
    {
     "name": "stdout",
     "output_type": "stream",
     "text": [
      "text\n",
      "password\n",
      "checkbox\n",
      "submit\n"
     ]
    }
   ],
   "source": [
    "# Extract Input Type from all label in Form \n",
    "for t in types:\n",
    "    Input_type.append(t.get('type'))\n",
    "    print(t.get('type'))"
   ]
  },
  {
   "cell_type": "code",
   "execution_count": 80,
   "id": "4f3ddeec-4985-4e02-af3f-8af6d2216d39",
   "metadata": {},
   "outputs": [
    {
     "name": "stdout",
     "output_type": "stream",
     "text": [
      "Enter your username\n",
      "Enter your password\n",
      "None\n",
      "None\n"
     ]
    }
   ],
   "source": [
    "# Extract Default values from all label in Form \n",
    "values = soup.find('form').find_all('input')\n",
    "\n",
    "for value in values:\n",
    "    Default_values.append(value.get('placeholder'))\n",
    "    print(value.get('placeholder'))"
   ]
  },
  {
   "cell_type": "markdown",
   "id": "5e30d4b1-7482-4efb-abd9-44bb33ae9029",
   "metadata": {},
   "source": [
    "2-  Save the data into a Form_Information.JSON file"
   ]
  },
  {
   "cell_type": "code",
   "execution_count": 83,
   "id": "63b94a39-6ce3-417e-b60d-2c9ffe7cc275",
   "metadata": {},
   "outputs": [],
   "source": [
    "d = {'Field name':Field_name, 'Input type':Input_type, 'Default values':Default_values}\n",
    "\n",
    "with open('Form_Information.JSON', 'w', encoding = 'UTF8') as file:\n",
    "    json.dump(d, file, indent=3)"
   ]
  },
  {
   "cell_type": "markdown",
   "id": "256f5b53-b44e-4222-a607-8309eee41cea",
   "metadata": {},
   "source": [
    "****Task_5 : Extract Links and Multimedia****"
   ]
  },
  {
   "cell_type": "markdown",
   "id": "fc0a0a06-ba2d-4ce6-ad90-4d4d5e3c1ce2",
   "metadata": {},
   "source": [
    "1- Extract Video Link"
   ]
  },
  {
   "cell_type": "code",
   "execution_count": 87,
   "id": "5a294f60-402c-4748-bb32-4386d5427132",
   "metadata": {},
   "outputs": [
    {
     "data": {
      "text/plain": [
       "'https://www.youtube.com/watch?v=ujf9RNuBdCU'"
      ]
     },
     "execution_count": 87,
     "metadata": {},
     "output_type": "execute_result"
    }
   ],
   "source": [
    "video = soup.find('iframe').get('src')\n",
    "video"
   ]
  },
  {
   "cell_type": "markdown",
   "id": "9b0a439c-bf51-47e9-9c67-cb44dbfe6958",
   "metadata": {},
   "source": [
    "2- save the data into a Video_Link.JSON file"
   ]
  },
  {
   "cell_type": "code",
   "execution_count": 90,
   "id": "0377b40c-2bca-4413-9dab-eced1dde3eb6",
   "metadata": {},
   "outputs": [],
   "source": [
    "d = {'Video Link':video}\n",
    "\n",
    "with open('Video_Link.JSON', 'w', encoding = 'UTF8') as file:\n",
    "    json.dump(d, file)"
   ]
  },
  {
   "cell_type": "markdown",
   "id": "200e54de-d399-49ed-9e4e-deed4a460dbf",
   "metadata": {},
   "source": [
    "****Task_6 : Scraping Challenge****"
   ]
  },
  {
   "cell_type": "markdown",
   "id": "b7239c59-e458-4c40-b3d4-75b9163d92d4",
   "metadata": {},
   "source": [
    "1- Extract data from the featured products  "
   ]
  },
  {
   "cell_type": "code",
   "execution_count": 94,
   "id": "da0df40b-ca40-43d1-a143-7b6abe37067e",
   "metadata": {},
   "outputs": [],
   "source": [
    "featured_product = []  # Empty List to add all product_feature"
   ]
  },
  {
   "cell_type": "code",
   "execution_count": 96,
   "id": "0f871f2e-cb45-4d06-bee7-dd1916c24c59",
   "metadata": {},
   "outputs": [],
   "source": [
    "product_name = soup.find('div',{'class':'product-card','data-id':'101'}).find_all('p',{'class':'name'})[0].get_text()\n",
    "product_price = soup.find('div',{'class':'product-card','data-id':'101'}).find_all('p',{'class':'price'})[0].get_text()\n",
    "product_color = soup.find('div',{'class':'product-card','data-id':'101'}).find_all('p',{'class':'colors'})[0].get_text()\n",
    "begin = len(product_color)-len('Available colors:')-1  # Extract the color of the product from sentence\n",
    "product_color = product_color[begin:]\n",
    "\n",
    "feature_1 = {'id':'101', 'name':product_name, 'price':product_price, 'colors':product_color}\n",
    "featured_product.append(feature_1)"
   ]
  },
  {
   "cell_type": "code",
   "execution_count": 98,
   "id": "f28d9ac1-2b15-45e5-a830-f70951abf04a",
   "metadata": {},
   "outputs": [],
   "source": [
    "product_name = soup.find('div',{'class':'product-card','data-id':'102'}).find_all('p',{'class':'name'})[0].get_text()\n",
    "product_price = soup.find('div',{'class':'product-card','data-id':'102'}).find_all('p',{'class':'price'})[0].get_text()\n",
    "product_color = soup.find('div',{'class':'product-card','data-id':'102'}).find_all('p',{'class':'colors'})[0].get_text()\n",
    "begin = len(product_color)-len('Available colors:')-1  # Extract the color of the product from sentence\n",
    "product_color = product_color[begin:]\n",
    "\n",
    "feature_2 = {'id':'102', 'name':product_name, 'price':product_price, 'colors':product_color}\n",
    "featured_product.append(feature_2)"
   ]
  },
  {
   "cell_type": "code",
   "execution_count": 100,
   "id": "9629deab-5357-4724-9b25-5c32900e6897",
   "metadata": {},
   "outputs": [],
   "source": [
    "product_name = soup.find('div',{'class':'product-card','data-id':'103'}).find_all('p',{'class':'name'})[0].get_text()\n",
    "product_price = soup.find('div',{'class':'product-card','data-id':'103'}).find_all('p',{'class':'price'})[0].get_text()\n",
    "product_color = soup.find('div',{'class':'product-card','data-id':'103'}).find_all('p',{'class':'colors'})[0].get_text()\n",
    "begin = len(product_color)-len('Available colors:')-1  # Extract the color of the product from sentence\n",
    "product_color = product_color[begin:]\n",
    "\n",
    "feature_3 = {'id':'103', 'name':product_name, 'price':product_price, 'colors':product_color}\n",
    "featured_product.append(feature_3)"
   ]
  },
  {
   "cell_type": "markdown",
   "id": "04cde5ab-f159-4b8b-bc05-c08d0714718f",
   "metadata": {},
   "source": [
    "2- the final output"
   ]
  },
  {
   "cell_type": "code",
   "execution_count": 103,
   "id": "f92a3e7c-c469-4abb-a6a3-b3387a21a7ee",
   "metadata": {},
   "outputs": [
    {
     "data": {
      "text/plain": [
       "[{'id': '101',\n",
       "  'name': 'Wireless Headphones',\n",
       "  'price': '$49.99',\n",
       "  'colors': 'Black, White, Blue'},\n",
       " {'id': '102',\n",
       "  'name': 'Smart Speaker',\n",
       "  'price': '$89.99',\n",
       "  'colors': 'olors: Grey, Black'},\n",
       " {'id': '103',\n",
       "  'name': 'Smart Watch',\n",
       "  'price': '$149.99',\n",
       "  'colors': 'lack, Silver, Gold'}]"
      ]
     },
     "execution_count": 103,
     "metadata": {},
     "output_type": "execute_result"
    }
   ],
   "source": [
    "featured_product"
   ]
  }
 ],
 "metadata": {
  "kernelspec": {
   "display_name": "Python [conda env:base] *",
   "language": "python",
   "name": "conda-base-py"
  },
  "language_info": {
   "codemirror_mode": {
    "name": "ipython",
    "version": 3
   },
   "file_extension": ".py",
   "mimetype": "text/x-python",
   "name": "python",
   "nbconvert_exporter": "python",
   "pygments_lexer": "ipython3",
   "version": "3.11.7"
  }
 },
 "nbformat": 4,
 "nbformat_minor": 5
}
